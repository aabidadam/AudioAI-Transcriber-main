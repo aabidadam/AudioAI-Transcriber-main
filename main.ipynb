{
 "cells": [
  {
   "cell_type": "markdown",
   "id": "bcff45a5",
   "metadata": {},
   "source": [
    "#Recording Audio with pyaudio"
   ]
  },
  {
   "cell_type": "code",
   "execution_count": 6,
   "id": "c2069f4d",
   "metadata": {},
   "outputs": [],
   "source": [
    "# pip install pyaudio numpy openai-whisper"
   ]
  },
  {
   "cell_type": "code",
   "execution_count": 7,
   "id": "2c4a5bb2",
   "metadata": {},
   "outputs": [
    {
     "name": "stdout",
     "output_type": "stream",
     "text": [
      "Recording...\n",
      "Recording finished.\n"
     ]
    }
   ],
   "source": [
    "import pyaudio\n",
    "import wave\n",
    "\n",
    "def record_audio(filename, duration, sample_rate=44100, chunk_size=1024, channels=1):\n",
    "    audio = pyaudio.PyAudio()\n",
    "    stream = audio.open(format=pyaudio.paInt16, channels=channels,\n",
    "                        rate=sample_rate, input=True,\n",
    "                        frames_per_buffer=chunk_size)\n",
    "\n",
    "    print(\"Recording...\")\n",
    "    frames = []\n",
    "    for _ in range(0, int(sample_rate / chunk_size * duration)):\n",
    "        data = stream.read(chunk_size)\n",
    "        frames.append(data)\n",
    "    print(\"Recording finished.\")\n",
    "\n",
    "    stream.stop_stream()\n",
    "    stream.close()\n",
    "    audio.terminate()\n",
    "\n",
    "    with wave.open(filename, 'wb') as wf:\n",
    "        wf.setnchannels(channels)\n",
    "        wf.setsampwidth(audio.get_sample_size(pyaudio.paInt16))\n",
    "        wf.setframerate(sample_rate)\n",
    "        wf.writeframes(b''.join(frames))\n",
    "\n",
    "# Example: record 10 seconds of audio and save it to 'output.wav'\n",
    "record_audio('output.wav', duration=10)\n"
   ]
  },
  {
   "cell_type": "code",
   "execution_count": 1,
   "id": "944b08c7",
   "metadata": {},
   "outputs": [
    {
     "name": "stderr",
     "output_type": "stream",
     "text": [
      "y:\\Affine\\venv\\lib\\site-packages\\whisper\\transcribe.py:115: UserWarning: FP16 is not supported on CPU; using FP32 instead\n",
      "  warnings.warn(\"FP16 is not supported on CPU; using FP32 instead\")\n"
     ]
    },
    {
     "name": "stdout",
     "output_type": "stream",
     "text": [
      "Transcription:  ά\n"
     ]
    }
   ],
   "source": [
    "import whisper\n",
    "\n",
    "def transcribe_audio(filename):\n",
    "    model = whisper.load_model(\"base\")\n",
    "    result = model.transcribe(filename)\n",
    "    return result['text']\n",
    "\n",
    "# Example: transcribe the recorded audio\n",
    "transcription = transcribe_audio('output.wav')\n",
    "print(\"Transcription:\", transcription)\n"
   ]
  },
  {
   "cell_type": "code",
   "execution_count": null,
   "id": "d0c598eb",
   "metadata": {},
   "outputs": [],
   "source": []
  }
 ],
 "metadata": {
  "kernelspec": {
   "display_name": "Python 3 (ipykernel)",
   "language": "python",
   "name": "python3"
  },
  "language_info": {
   "codemirror_mode": {
    "name": "ipython",
    "version": 3
   },
   "file_extension": ".py",
   "mimetype": "text/x-python",
   "name": "python",
   "nbconvert_exporter": "python",
   "pygments_lexer": "ipython3",
   "version": "3.10.5"
  }
 },
 "nbformat": 4,
 "nbformat_minor": 5
}
